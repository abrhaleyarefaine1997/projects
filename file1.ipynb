{
  "nbformat": 4,
  "nbformat_minor": 0,
  "metadata": {
    "colab": {
      "provenance": [],
      "authorship_tag": "ABX9TyPfcRRgh9Tkh2Ox5g8+TcOU",
      "include_colab_link": true
    },
    "kernelspec": {
      "name": "python3",
      "display_name": "Python 3"
    },
    "language_info": {
      "name": "python"
    }
  },
  "cells": [
    {
      "cell_type": "markdown",
      "metadata": {
        "id": "view-in-github",
        "colab_type": "text"
      },
      "source": [
        "<a href=\"https://colab.research.google.com/github/abrhaleyarefaine1997/projects/blob/main/file1.ipynb\" target=\"_parent\"><img src=\"https://colab.research.google.com/assets/colab-badge.svg\" alt=\"Open In Colab\"/></a>"
      ]
    },
    {
      "cell_type": "code",
      "execution_count": 1,
      "metadata": {
        "colab": {
          "base_uri": "https://localhost:8080/"
        },
        "id": "dhIpM70KQCo6",
        "outputId": "f60ba14e-bd10-442b-e839-561eab6c017f"
      },
      "outputs": [
        {
          "output_type": "stream",
          "name": "stdout",
          "text": [
            "Enter name 1: Abrhaley\n",
            "Enter name 2: Meron\n",
            "Your love score is 65%\n",
            "You guys are alright together.\n"
          ]
        }
      ],
      "source": [
        "import random\n",
        "\n",
        "def love_calculator(name1, name2):\n",
        "    \"\"\"Calculates a random love percentage between two names.\"\"\"\n",
        "\n",
        "    love_score = random.randint(0, 100)\n",
        "    print(f\"Your love score is {love_score}%\")\n",
        "\n",
        "    if love_score > 80:\n",
        "        print(\"You love each other like Romeo and Juliet!\")\n",
        "    elif love_score > 60:\n",
        "        print(\"You guys are alright together.\")\n",
        "    else:\n",
        "        print(\"You might want to reconsider...\")\n",
        "\n",
        "# Get user input\n",
        "name1 = input(\"Enter name 1: \")\n",
        "name2 = input(\"Enter name 2: \")\n",
        "\n",
        "# Calculate love score\n",
        "love_calculator(name1, name2)"
      ]
    },
    {
      "cell_type": "code",
      "source": [
        "!git init"
      ],
      "metadata": {
        "colab": {
          "base_uri": "https://localhost:8080/"
        },
        "id": "sD9_V5U6Y2ig",
        "outputId": "965097f9-cd07-4cf9-fd1d-c93cf9109def"
      },
      "execution_count": 3,
      "outputs": [
        {
          "output_type": "stream",
          "name": "stdout",
          "text": [
            "\u001b[33mhint: Using 'master' as the name for the initial branch. This default branch name\u001b[m\n",
            "\u001b[33mhint: is subject to change. To configure the initial branch name to use in all\u001b[m\n",
            "\u001b[33mhint: of your new repositories, which will suppress this warning, call:\u001b[m\n",
            "\u001b[33mhint: \u001b[m\n",
            "\u001b[33mhint: \tgit config --global init.defaultBranch <name>\u001b[m\n",
            "\u001b[33mhint: \u001b[m\n",
            "\u001b[33mhint: Names commonly chosen instead of 'master' are 'main', 'trunk' and\u001b[m\n",
            "\u001b[33mhint: 'development'. The just-created branch can be renamed via this command:\u001b[m\n",
            "\u001b[33mhint: \u001b[m\n",
            "\u001b[33mhint: \tgit branch -m <name>\u001b[m\n",
            "Initialized empty Git repository in /content/.git/\n"
          ]
        }
      ]
    },
    {
      "cell_type": "code",
      "source": [
        "%cd /content/projects  # or your cloned repo directory"
      ],
      "metadata": {
        "colab": {
          "base_uri": "https://localhost:8080/"
        },
        "id": "xiaieCwrZOk7",
        "outputId": "e3c2ac72-2655-4f3c-e499-8583032f11e2"
      },
      "execution_count": 6,
      "outputs": [
        {
          "output_type": "stream",
          "name": "stdout",
          "text": [
            "[Errno 2] No such file or directory: '/content/projects # or your cloned repo directory'\n",
            "/content\n"
          ]
        }
      ]
    },
    {
      "cell_type": "code",
      "source": [
        "!git remote -v"
      ],
      "metadata": {
        "id": "vtdCxYNLYtsS"
      },
      "execution_count": 5,
      "outputs": []
    },
    {
      "cell_type": "code",
      "source": [
        "!git branch -M main"
      ],
      "metadata": {
        "id": "xdvhDfX2VApc"
      },
      "execution_count": 13,
      "outputs": []
    },
    {
      "cell_type": "code",
      "source": [
        "!git add file1.ipynb"
      ],
      "metadata": {
        "colab": {
          "base_uri": "https://localhost:8080/"
        },
        "id": "eE7ERcMBVyv7",
        "outputId": "7f05f21e-9eed-49f4-9958-f345937ee885"
      },
      "execution_count": 15,
      "outputs": [
        {
          "output_type": "stream",
          "name": "stdout",
          "text": [
            "fatal: pathspec 'file1.py' did not match any files\n"
          ]
        }
      ]
    },
    {
      "cell_type": "code",
      "source": [
        "!pwd"
      ],
      "metadata": {
        "colab": {
          "base_uri": "https://localhost:8080/"
        },
        "id": "eY5VrNYrWRKL",
        "outputId": "4f1064a1-f63d-4f2f-9b90-cadbf9b28087"
      },
      "execution_count": 16,
      "outputs": [
        {
          "output_type": "stream",
          "name": "stdout",
          "text": [
            "/content\n"
          ]
        }
      ]
    },
    {
      "cell_type": "markdown",
      "source": [],
      "metadata": {
        "id": "BcCsTS0oWQ-z"
      }
    }
  ]
}